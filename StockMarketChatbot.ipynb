{
 "cells": [
  {
   "cell_type": "code",
   "execution_count": 3,
   "id": "9f0567ca-d142-4a4e-b324-a16118ffa7c4",
   "metadata": {
    "scrolled": true
   },
   "outputs": [
    {
     "name": "stdout",
     "output_type": "stream",
     "text": [
      "Requirement already satisfied: langchain in ./anaconda3/lib/python3.11/site-packages (0.1.13)\n",
      "Requirement already satisfied: PyYAML>=5.3 in ./anaconda3/lib/python3.11/site-packages (from langchain) (6.0.1)\n",
      "Requirement already satisfied: SQLAlchemy<3,>=1.4 in ./anaconda3/lib/python3.11/site-packages (from langchain) (2.0.25)\n",
      "Requirement already satisfied: aiohttp<4.0.0,>=3.8.3 in ./anaconda3/lib/python3.11/site-packages (from langchain) (3.9.0)\n",
      "Requirement already satisfied: dataclasses-json<0.7,>=0.5.7 in ./anaconda3/lib/python3.11/site-packages (from langchain) (0.6.4)\n",
      "Requirement already satisfied: jsonpatch<2.0,>=1.33 in ./anaconda3/lib/python3.11/site-packages (from langchain) (1.33)\n",
      "Requirement already satisfied: langchain-community<0.1,>=0.0.29 in ./anaconda3/lib/python3.11/site-packages (from langchain) (0.0.29)\n",
      "Requirement already satisfied: langchain-core<0.2.0,>=0.1.33 in ./anaconda3/lib/python3.11/site-packages (from langchain) (0.1.35)\n",
      "Requirement already satisfied: langchain-text-splitters<0.1,>=0.0.1 in ./anaconda3/lib/python3.11/site-packages (from langchain) (0.0.1)\n",
      "Requirement already satisfied: langsmith<0.2.0,>=0.1.17 in ./anaconda3/lib/python3.11/site-packages (from langchain) (0.1.36)\n",
      "Requirement already satisfied: numpy<2,>=1 in ./anaconda3/lib/python3.11/site-packages (from langchain) (1.26.3)\n",
      "Requirement already satisfied: pydantic<3,>=1 in ./anaconda3/lib/python3.11/site-packages (from langchain) (1.10.12)\n",
      "Requirement already satisfied: requests<3,>=2 in ./anaconda3/lib/python3.11/site-packages (from langchain) (2.31.0)\n",
      "Requirement already satisfied: tenacity<9.0.0,>=8.1.0 in ./anaconda3/lib/python3.11/site-packages (from langchain) (8.2.2)\n",
      "Requirement already satisfied: attrs>=17.3.0 in ./anaconda3/lib/python3.11/site-packages (from aiohttp<4.0.0,>=3.8.3->langchain) (23.1.0)\n",
      "Requirement already satisfied: multidict<7.0,>=4.5 in ./anaconda3/lib/python3.11/site-packages (from aiohttp<4.0.0,>=3.8.3->langchain) (6.0.4)\n",
      "Requirement already satisfied: yarl<2.0,>=1.0 in ./anaconda3/lib/python3.11/site-packages (from aiohttp<4.0.0,>=3.8.3->langchain) (1.9.3)\n",
      "Requirement already satisfied: frozenlist>=1.1.1 in ./anaconda3/lib/python3.11/site-packages (from aiohttp<4.0.0,>=3.8.3->langchain) (1.4.0)\n",
      "Requirement already satisfied: aiosignal>=1.1.2 in ./anaconda3/lib/python3.11/site-packages (from aiohttp<4.0.0,>=3.8.3->langchain) (1.2.0)\n",
      "Requirement already satisfied: marshmallow<4.0.0,>=3.18.0 in ./anaconda3/lib/python3.11/site-packages (from dataclasses-json<0.7,>=0.5.7->langchain) (3.21.1)\n",
      "Requirement already satisfied: typing-inspect<1,>=0.4.0 in ./anaconda3/lib/python3.11/site-packages (from dataclasses-json<0.7,>=0.5.7->langchain) (0.9.0)\n",
      "Requirement already satisfied: jsonpointer>=1.9 in ./anaconda3/lib/python3.11/site-packages (from jsonpatch<2.0,>=1.33->langchain) (2.1)\n",
      "Requirement already satisfied: packaging<24.0,>=23.2 in ./anaconda3/lib/python3.11/site-packages (from langchain-core<0.2.0,>=0.1.33->langchain) (23.2)\n",
      "Requirement already satisfied: orjson<4.0.0,>=3.9.14 in ./anaconda3/lib/python3.11/site-packages (from langsmith<0.2.0,>=0.1.17->langchain) (3.10.0)\n",
      "Requirement already satisfied: typing-extensions>=4.2.0 in ./anaconda3/lib/python3.11/site-packages (from pydantic<3,>=1->langchain) (4.9.0)\n",
      "Requirement already satisfied: charset-normalizer<4,>=2 in ./anaconda3/lib/python3.11/site-packages (from requests<3,>=2->langchain) (2.0.4)\n",
      "Requirement already satisfied: idna<4,>=2.5 in ./anaconda3/lib/python3.11/site-packages (from requests<3,>=2->langchain) (3.4)\n",
      "Requirement already satisfied: urllib3<3,>=1.21.1 in ./.local/lib/python3.11/site-packages (from requests<3,>=2->langchain) (1.25.11)\n",
      "Requirement already satisfied: certifi>=2017.4.17 in ./anaconda3/lib/python3.11/site-packages (from requests<3,>=2->langchain) (2023.11.17)\n",
      "Requirement already satisfied: mypy-extensions>=0.3.0 in ./anaconda3/lib/python3.11/site-packages (from typing-inspect<1,>=0.4.0->dataclasses-json<0.7,>=0.5.7->langchain) (1.0.0)\n",
      "\n",
      "\u001b[1m[\u001b[0m\u001b[34;49mnotice\u001b[0m\u001b[1;39;49m]\u001b[0m\u001b[39;49m A new release of pip is available: \u001b[0m\u001b[31;49m23.3.2\u001b[0m\u001b[39;49m -> \u001b[0m\u001b[32;49m24.0\u001b[0m\n",
      "\u001b[1m[\u001b[0m\u001b[34;49mnotice\u001b[0m\u001b[1;39;49m]\u001b[0m\u001b[39;49m To update, run: \u001b[0m\u001b[32;49m/Users/nidhikumar/anaconda3/bin/python -m pip install --upgrade pip\u001b[0m\n",
      "Note: you may need to restart the kernel to use updated packages.\n"
     ]
    }
   ],
   "source": [
    "pip install langchain"
   ]
  },
  {
   "cell_type": "code",
   "execution_count": 1,
   "id": "e281e1ca-a9e4-4603-89d6-81bdbf2cfd14",
   "metadata": {},
   "outputs": [],
   "source": [
    "from langchain.document_loaders import TextLoader"
   ]
  },
  {
   "cell_type": "code",
   "execution_count": 2,
   "id": "120515d5-cc10-4652-8136-15f0139cba3c",
   "metadata": {},
   "outputs": [],
   "source": [
    "loader = TextLoader(\"nvda_news_1.txt\")"
   ]
  },
  {
   "cell_type": "code",
   "execution_count": 3,
   "id": "04f7ad28-33f9-41f2-9c1f-1a218775c536",
   "metadata": {},
   "outputs": [],
   "source": [
    "data = loader.load()"
   ]
  },
  {
   "cell_type": "code",
   "execution_count": 4,
   "id": "479eb0c3-fdf5-49d7-88ef-b3aed02f7f1e",
   "metadata": {
    "scrolled": true
   },
   "outputs": [
    {
     "name": "stdout",
     "output_type": "stream",
     "text": [
      "Collecting unstructured\n",
      "  Using cached unstructured-0.12.6-py3-none-any.whl.metadata (83 kB)\n",
      "Collecting libmagic\n",
      "  Using cached libmagic-1.0.tar.gz (3.7 kB)\n",
      "  Preparing metadata (setup.py) ... \u001b[?25ldone\n",
      "\u001b[?25hCollecting python-magic==0.4.15\n",
      "  Using cached python_magic-0.4.15-py2.py3-none-any.whl.metadata (1.0 kB)\n",
      "\u001b[31mERROR: Could not find a version that satisfies the requirement python-magic-bin (from versions: none)\u001b[0m\u001b[31m\n",
      "\u001b[0m\u001b[31mERROR: No matching distribution found for python-magic-bin\u001b[0m\u001b[31m\n",
      "\u001b[0m\n",
      "\u001b[1m[\u001b[0m\u001b[34;49mnotice\u001b[0m\u001b[1;39;49m]\u001b[0m\u001b[39;49m A new release of pip is available: \u001b[0m\u001b[31;49m23.3.2\u001b[0m\u001b[39;49m -> \u001b[0m\u001b[32;49m24.0\u001b[0m\n",
      "\u001b[1m[\u001b[0m\u001b[34;49mnotice\u001b[0m\u001b[1;39;49m]\u001b[0m\u001b[39;49m To update, run: \u001b[0m\u001b[32;49mpip install --upgrade pip\u001b[0m\n"
     ]
    }
   ],
   "source": [
    "!pip install unstructured libmagic python-magic==0.4.15 python-magic-bin"
   ]
  },
  {
   "cell_type": "code",
   "execution_count": 7,
   "id": "31a71efe-3c9e-4b08-a7e6-211c2b2bc234",
   "metadata": {
    "scrolled": true
   },
   "outputs": [
    {
     "name": "stdout",
     "output_type": "stream",
     "text": [
      "Collecting unstructured==0.5.6\n",
      "  Downloading unstructured-0.5.6.tar.gz (1.3 MB)\n",
      "\u001b[2K     \u001b[90m━━━━━━━━━━━━━━━━━━━━━━━━━━━━━━━━━━━━━━━━\u001b[0m \u001b[32m1.3/1.3 MB\u001b[0m \u001b[31m10.5 MB/s\u001b[0m eta \u001b[36m0:00:00\u001b[0m00:01\u001b[0m0:01\u001b[0m\n",
      "\u001b[?25h  Preparing metadata (setup.py) ... \u001b[?25ldone\n",
      "\u001b[?25hCollecting argilla (from unstructured==0.5.6)\n",
      "  Downloading argilla-1.26.1-py3-none-any.whl.metadata (17 kB)\n",
      "Requirement already satisfied: lxml in /Users/nidhikumar/anaconda3/lib/python3.11/site-packages (from unstructured==0.5.6) (4.9.3)\n",
      "Requirement already satisfied: nltk in /Users/nidhikumar/anaconda3/lib/python3.11/site-packages (from unstructured==0.5.6) (3.8.1)\n",
      "Requirement already satisfied: openpyxl in /Users/nidhikumar/anaconda3/lib/python3.11/site-packages (from unstructured==0.5.6) (3.0.10)\n",
      "Requirement already satisfied: pandas in /Users/nidhikumar/anaconda3/lib/python3.11/site-packages (from unstructured==0.5.6) (2.1.4)\n",
      "Requirement already satisfied: pillow in /Users/nidhikumar/anaconda3/lib/python3.11/site-packages (from unstructured==0.5.6) (10.0.1)\n",
      "Collecting pypandoc (from unstructured==0.5.6)\n",
      "  Downloading pypandoc-1.13-py3-none-any.whl.metadata (16 kB)\n",
      "Collecting python-docx (from unstructured==0.5.6)\n",
      "  Downloading python_docx-1.1.0-py3-none-any.whl.metadata (2.0 kB)\n",
      "Collecting python-pptx (from unstructured==0.5.6)\n",
      "  Downloading python_pptx-0.6.23-py3-none-any.whl.metadata (18 kB)\n",
      "Collecting python-magic (from unstructured==0.5.6)\n",
      "  Using cached python_magic-0.4.27-py2.py3-none-any.whl.metadata (5.8 kB)\n",
      "Requirement already satisfied: markdown in /Users/nidhikumar/anaconda3/lib/python3.11/site-packages (from unstructured==0.5.6) (3.4.1)\n",
      "Requirement already satisfied: requests in /Users/nidhikumar/anaconda3/lib/python3.11/site-packages (from unstructured==0.5.6) (2.31.0)\n",
      "Requirement already satisfied: certifi>=2022.12.07 in /Users/nidhikumar/anaconda3/lib/python3.11/site-packages (from unstructured==0.5.6) (2023.11.17)\n",
      "Collecting httpx<=0.26,>=0.15 (from argilla->unstructured==0.5.6)\n",
      "  Downloading httpx-0.26.0-py3-none-any.whl.metadata (7.6 kB)\n",
      "Collecting deprecated~=1.2.0 (from argilla->unstructured==0.5.6)\n",
      "  Downloading Deprecated-1.2.14-py2.py3-none-any.whl.metadata (5.4 kB)\n",
      "Requirement already satisfied: packaging>=20.0 in /Users/nidhikumar/anaconda3/lib/python3.11/site-packages (from argilla->unstructured==0.5.6) (23.2)\n",
      "Requirement already satisfied: pydantic>=1.10.7 in /Users/nidhikumar/anaconda3/lib/python3.11/site-packages (from argilla->unstructured==0.5.6) (1.10.12)\n",
      "Requirement already satisfied: wrapt<1.15,>=1.13 in /Users/nidhikumar/anaconda3/lib/python3.11/site-packages (from argilla->unstructured==0.5.6) (1.14.1)\n",
      "Collecting numpy<1.24.0 (from argilla->unstructured==0.5.6)\n",
      "  Downloading numpy-1.23.5-cp311-cp311-macosx_11_0_arm64.whl.metadata (2.3 kB)\n",
      "Requirement already satisfied: tqdm>=4.27.0 in /Users/nidhikumar/anaconda3/lib/python3.11/site-packages (from argilla->unstructured==0.5.6) (4.65.0)\n",
      "Collecting backoff (from argilla->unstructured==0.5.6)\n",
      "  Downloading backoff-2.2.1-py3-none-any.whl.metadata (14 kB)\n",
      "Collecting monotonic (from argilla->unstructured==0.5.6)\n",
      "  Downloading monotonic-1.6-py2.py3-none-any.whl.metadata (1.5 kB)\n",
      "Requirement already satisfied: rich!=13.1.0 in /Users/nidhikumar/anaconda3/lib/python3.11/site-packages (from argilla->unstructured==0.5.6) (13.3.5)\n",
      "Collecting typer<0.10.0,>=0.6.0 (from argilla->unstructured==0.5.6)\n",
      "  Downloading typer-0.9.4-py3-none-any.whl.metadata (14 kB)\n",
      "Requirement already satisfied: click in /Users/nidhikumar/anaconda3/lib/python3.11/site-packages (from nltk->unstructured==0.5.6) (8.1.7)\n",
      "Requirement already satisfied: joblib in /Users/nidhikumar/anaconda3/lib/python3.11/site-packages (from nltk->unstructured==0.5.6) (1.2.0)\n",
      "Requirement already satisfied: regex>=2021.8.3 in /Users/nidhikumar/anaconda3/lib/python3.11/site-packages (from nltk->unstructured==0.5.6) (2023.10.3)\n",
      "Requirement already satisfied: python-dateutil>=2.8.2 in /Users/nidhikumar/anaconda3/lib/python3.11/site-packages (from pandas->unstructured==0.5.6) (2.8.2)\n",
      "Requirement already satisfied: pytz>=2020.1 in /Users/nidhikumar/anaconda3/lib/python3.11/site-packages (from pandas->unstructured==0.5.6) (2023.3.post1)\n",
      "Requirement already satisfied: tzdata>=2022.1 in /Users/nidhikumar/anaconda3/lib/python3.11/site-packages (from pandas->unstructured==0.5.6) (2023.3)\n",
      "Requirement already satisfied: et_xmlfile in /Users/nidhikumar/anaconda3/lib/python3.11/site-packages (from openpyxl->unstructured==0.5.6) (1.1.0)\n",
      "Requirement already satisfied: typing-extensions in /Users/nidhikumar/anaconda3/lib/python3.11/site-packages (from python-docx->unstructured==0.5.6) (4.9.0)\n",
      "Collecting XlsxWriter>=0.5.7 (from python-pptx->unstructured==0.5.6)\n",
      "  Downloading XlsxWriter-3.2.0-py3-none-any.whl.metadata (2.6 kB)\n",
      "Requirement already satisfied: charset-normalizer<4,>=2 in /Users/nidhikumar/anaconda3/lib/python3.11/site-packages (from requests->unstructured==0.5.6) (2.0.4)\n",
      "Requirement already satisfied: idna<4,>=2.5 in /Users/nidhikumar/anaconda3/lib/python3.11/site-packages (from requests->unstructured==0.5.6) (3.4)\n",
      "Requirement already satisfied: urllib3<3,>=1.21.1 in /Users/nidhikumar/.local/lib/python3.11/site-packages (from requests->unstructured==0.5.6) (1.25.11)\n",
      "Requirement already satisfied: anyio in /Users/nidhikumar/anaconda3/lib/python3.11/site-packages (from httpx<=0.26,>=0.15->argilla->unstructured==0.5.6) (3.5.0)\n",
      "Collecting httpcore==1.* (from httpx<=0.26,>=0.15->argilla->unstructured==0.5.6)\n",
      "  Downloading httpcore-1.0.5-py3-none-any.whl.metadata (20 kB)\n",
      "Requirement already satisfied: sniffio in /Users/nidhikumar/anaconda3/lib/python3.11/site-packages (from httpx<=0.26,>=0.15->argilla->unstructured==0.5.6) (1.3.0)\n",
      "Collecting h11<0.15,>=0.13 (from httpcore==1.*->httpx<=0.26,>=0.15->argilla->unstructured==0.5.6)\n",
      "  Downloading h11-0.14.0-py3-none-any.whl.metadata (8.2 kB)\n",
      "Requirement already satisfied: six>=1.5 in /Users/nidhikumar/anaconda3/lib/python3.11/site-packages (from python-dateutil>=2.8.2->pandas->unstructured==0.5.6) (1.16.0)\n",
      "Requirement already satisfied: markdown-it-py<3.0.0,>=2.2.0 in /Users/nidhikumar/anaconda3/lib/python3.11/site-packages (from rich!=13.1.0->argilla->unstructured==0.5.6) (2.2.0)\n",
      "Requirement already satisfied: pygments<3.0.0,>=2.13.0 in /Users/nidhikumar/anaconda3/lib/python3.11/site-packages (from rich!=13.1.0->argilla->unstructured==0.5.6) (2.15.1)\n",
      "Requirement already satisfied: mdurl~=0.1 in /Users/nidhikumar/anaconda3/lib/python3.11/site-packages (from markdown-it-py<3.0.0,>=2.2.0->rich!=13.1.0->argilla->unstructured==0.5.6) (0.1.0)\n",
      "Downloading argilla-1.26.1-py3-none-any.whl (420 kB)\n",
      "\u001b[2K   \u001b[90m━━━━━━━━━━━━━━━━━━━━━━━━━━━━━━━━━━━━━━━━\u001b[0m \u001b[32m420.4/420.4 kB\u001b[0m \u001b[31m29.7 MB/s\u001b[0m eta \u001b[36m0:00:00\u001b[0m\n",
      "\u001b[?25hDownloading pypandoc-1.13-py3-none-any.whl (21 kB)\n",
      "Downloading python_docx-1.1.0-py3-none-any.whl (239 kB)\n",
      "\u001b[2K   \u001b[90m━━━━━━━━━━━━━━━━━━━━━━━━━━━━━━━━━━━━━━━━\u001b[0m \u001b[32m239.6/239.6 kB\u001b[0m \u001b[31m29.6 MB/s\u001b[0m eta \u001b[36m0:00:00\u001b[0m\n",
      "\u001b[?25hDownloading python_magic-0.4.27-py2.py3-none-any.whl (13 kB)\n",
      "Downloading python_pptx-0.6.23-py3-none-any.whl (471 kB)\n",
      "\u001b[2K   \u001b[90m━━━━━━━━━━━━━━━━━━━━━━━━━━━━━━━━━━━━━━━━\u001b[0m \u001b[32m471.6/471.6 kB\u001b[0m \u001b[31m38.5 MB/s\u001b[0m eta \u001b[36m0:00:00\u001b[0m\n",
      "\u001b[?25hDownloading Deprecated-1.2.14-py2.py3-none-any.whl (9.6 kB)\n",
      "Downloading httpx-0.26.0-py3-none-any.whl (75 kB)\n",
      "\u001b[2K   \u001b[90m━━━━━━━━━━━━━━━━━━━━━━━━━━━━━━━━━━━━━━━━\u001b[0m \u001b[32m75.9/75.9 kB\u001b[0m \u001b[31m8.3 MB/s\u001b[0m eta \u001b[36m0:00:00\u001b[0m\n",
      "\u001b[?25hDownloading httpcore-1.0.5-py3-none-any.whl (77 kB)\n",
      "\u001b[2K   \u001b[90m━━━━━━━━━━━━━━━━━━━━━━━━━━━━━━━━━━━━━━━━\u001b[0m \u001b[32m77.9/77.9 kB\u001b[0m \u001b[31m9.3 MB/s\u001b[0m eta \u001b[36m0:00:00\u001b[0m\n",
      "\u001b[?25hDownloading numpy-1.23.5-cp311-cp311-macosx_11_0_arm64.whl (13.3 MB)\n",
      "\u001b[2K   \u001b[90m━━━━━━━━━━━━━━━━━━━━━━━━━━━━━━━━━━━━━━━━\u001b[0m \u001b[32m13.3/13.3 MB\u001b[0m \u001b[31m39.6 MB/s\u001b[0m eta \u001b[36m0:00:00\u001b[0m00:01\u001b[0m00:01\u001b[0m\n",
      "\u001b[?25hDownloading typer-0.9.4-py3-none-any.whl (45 kB)\n",
      "\u001b[2K   \u001b[90m━━━━━━━━━━━━━━━━━━━━━━━━━━━━━━━━━━━━━━━━\u001b[0m \u001b[32m46.0/46.0 kB\u001b[0m \u001b[31m3.7 MB/s\u001b[0m eta \u001b[36m0:00:00\u001b[0m\n",
      "\u001b[?25hDownloading XlsxWriter-3.2.0-py3-none-any.whl (159 kB)\n",
      "\u001b[2K   \u001b[90m━━━━━━━━━━━━━━━━━━━━━━━━━━━━━━━━━━━━━━━━\u001b[0m \u001b[32m159.9/159.9 kB\u001b[0m \u001b[31m14.0 MB/s\u001b[0m eta \u001b[36m0:00:00\u001b[0m\n",
      "\u001b[?25hDownloading backoff-2.2.1-py3-none-any.whl (15 kB)\n",
      "Downloading monotonic-1.6-py2.py3-none-any.whl (8.2 kB)\n",
      "Downloading h11-0.14.0-py3-none-any.whl (58 kB)\n",
      "\u001b[2K   \u001b[90m━━━━━━━━━━━━━━━━━━━━━━━━━━━━━━━━━━━━━━━━\u001b[0m \u001b[32m58.3/58.3 kB\u001b[0m \u001b[31m4.5 MB/s\u001b[0m eta \u001b[36m0:00:00\u001b[0m\n",
      "\u001b[?25hBuilding wheels for collected packages: unstructured\n",
      "  Building wheel for unstructured (setup.py) ... \u001b[?25ldone\n",
      "\u001b[?25h  Created wheel for unstructured: filename=unstructured-0.5.6-py3-none-any.whl size=1315706 sha256=85ffef4153e0998143e42e8e48601d0ba3e6661703f38f330a8c6e3470944352\n",
      "  Stored in directory: /Users/nidhikumar/Library/Caches/pip/wheels/15/bf/03/c4ad862321479b4b26251ed00484e4b6a1eefbef4ba5512044\n",
      "Successfully built unstructured\n",
      "Installing collected packages: monotonic, XlsxWriter, typer, python-magic, python-docx, pypandoc, numpy, h11, deprecated, backoff, python-pptx, httpcore, httpx, argilla, unstructured\n",
      "  Attempting uninstall: numpy\n",
      "    Found existing installation: numpy 1.26.3\n",
      "    Uninstalling numpy-1.26.3:\n",
      "      Successfully uninstalled numpy-1.26.3\n",
      "\u001b[31mERROR: pip's dependency resolver does not currently take into account all the packages that are installed. This behaviour is the source of the following dependency conflicts.\n",
      "gensim 4.3.0 requires FuzzyTM>=0.4.0, which is not installed.\u001b[0m\u001b[31m\n",
      "\u001b[0mSuccessfully installed XlsxWriter-3.2.0 argilla-1.26.1 backoff-2.2.1 deprecated-1.2.14 h11-0.14.0 httpcore-1.0.5 httpx-0.26.0 monotonic-1.6 numpy-1.23.5 pypandoc-1.13 python-docx-1.1.0 python-magic-0.4.27 python-pptx-0.6.23 typer-0.9.4 unstructured-0.5.6\n",
      "\n",
      "\u001b[1m[\u001b[0m\u001b[34;49mnotice\u001b[0m\u001b[1;39;49m]\u001b[0m\u001b[39;49m A new release of pip is available: \u001b[0m\u001b[31;49m23.3.2\u001b[0m\u001b[39;49m -> \u001b[0m\u001b[32;49m24.0\u001b[0m\n",
      "\u001b[1m[\u001b[0m\u001b[34;49mnotice\u001b[0m\u001b[1;39;49m]\u001b[0m\u001b[39;49m To update, run: \u001b[0m\u001b[32;49m/Users/nidhikumar/anaconda3/bin/python -m pip install --upgrade pip\u001b[0m\n",
      "Note: you may need to restart the kernel to use updated packages.\n"
     ]
    }
   ],
   "source": [
    "pip install unstructured==0.5.6\n"
   ]
  },
  {
   "cell_type": "code",
   "execution_count": 8,
   "id": "8d2dbb3b-86c2-4903-880a-d3d834f34b5e",
   "metadata": {},
   "outputs": [],
   "source": [
    "from langchain.document_loaders import UnstructuredURLLoader"
   ]
  },
  {
   "cell_type": "code",
   "execution_count": 9,
   "id": "ecda0cc0-4f0b-42f4-8c32-8d2232458bee",
   "metadata": {},
   "outputs": [],
   "source": [
    "loaderText = UnstructuredURLLoader(urls=[\"https://www.fool.com/investing/2024/03/27/where-will-nvidia-stock-be-in-1-year/\"])"
   ]
  },
  {
   "cell_type": "code",
   "execution_count": null,
   "id": "88436e2c-1c13-4d4e-8a03-e4837a2ee094",
   "metadata": {},
   "outputs": [],
   "source": [
    "data = loaderText.load()"
   ]
  },
  {
   "cell_type": "code",
   "execution_count": null,
   "id": "0a5b6081-ac7b-4ab7-a7b9-554a38441f63",
   "metadata": {},
   "outputs": [],
   "source": [
    "len"
   ]
  }
 ],
 "metadata": {
  "kernelspec": {
   "display_name": "Python 3 (ipykernel)",
   "language": "python",
   "name": "python3"
  },
  "language_info": {
   "codemirror_mode": {
    "name": "ipython",
    "version": 3
   },
   "file_extension": ".py",
   "mimetype": "text/x-python",
   "name": "python",
   "nbconvert_exporter": "python",
   "pygments_lexer": "ipython3",
   "version": "3.11.7"
  }
 },
 "nbformat": 4,
 "nbformat_minor": 5
}
