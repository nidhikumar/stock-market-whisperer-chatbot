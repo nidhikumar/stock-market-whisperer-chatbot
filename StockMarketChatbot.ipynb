{
 "cells": [
  {
   "cell_type": "markdown",
   "id": "4526f353-942d-4f77-b19b-9f6cbc37f88f",
   "metadata": {},
   "source": [
    "# Install libraries"
   ]
  },
  {
   "cell_type": "code",
   "execution_count": null,
   "id": "9f0567ca-d142-4a4e-b324-a16118ffa7c4",
   "metadata": {},
   "outputs": [],
   "source": [
    "pip install langchain"
   ]
  },
  {
   "cell_type": "code",
   "execution_count": null,
   "id": "479eb0c3-fdf5-49d7-88ef-b3aed02f7f1e",
   "metadata": {
    "scrolled": true
   },
   "outputs": [],
   "source": [
    "!pip install unstructured libmagic python-magic==0.4.15 python-magic-bin"
   ]
  },
  {
   "cell_type": "code",
   "execution_count": null,
   "id": "31a71efe-3c9e-4b08-a7e6-211c2b2bc234",
   "metadata": {
    "scrolled": true
   },
   "outputs": [],
   "source": [
    "pip install unstructured==0.5.6\n"
   ]
  },
  {
   "cell_type": "markdown",
   "id": "0bbb40c1-ac98-4095-b8fd-8822048cd250",
   "metadata": {},
   "source": [
    "# Text Loader"
   ]
  },
  {
   "cell_type": "code",
   "execution_count": 1,
   "id": "e281e1ca-a9e4-4603-89d6-81bdbf2cfd14",
   "metadata": {},
   "outputs": [],
   "source": [
    "from langchain.document_loaders import TextLoader"
   ]
  },
  {
   "cell_type": "code",
   "execution_count": 2,
   "id": "120515d5-cc10-4652-8136-15f0139cba3c",
   "metadata": {},
   "outputs": [],
   "source": [
    "loader = TextLoader(\"nvda_news_1.txt\")"
   ]
  },
  {
   "cell_type": "code",
   "execution_count": 3,
   "id": "04f7ad28-33f9-41f2-9c1f-1a218775c536",
   "metadata": {},
   "outputs": [],
   "source": [
    "data = loader.load()"
   ]
  },
  {
   "cell_type": "markdown",
   "id": "95454c56-d889-4a6e-96ab-b6ddb3e5ad1f",
   "metadata": {},
   "source": [
    "# Unstructured URL Loader - get data from a URL"
   ]
  },
  {
   "cell_type": "code",
   "execution_count": 8,
   "id": "8d2dbb3b-86c2-4903-880a-d3d834f34b5e",
   "metadata": {},
   "outputs": [],
   "source": [
    "from langchain.document_loaders import UnstructuredURLLoader"
   ]
  },
  {
   "cell_type": "code",
   "execution_count": 9,
   "id": "ecda0cc0-4f0b-42f4-8c32-8d2232458bee",
   "metadata": {},
   "outputs": [],
   "source": [
    "loaderText = UnstructuredURLLoader(urls=[\"https://www.fool.com/investing/2024/03/27/where-will-nvidia-stock-be-in-1-year/\"])"
   ]
  },
  {
   "cell_type": "code",
   "execution_count": 10,
   "id": "88436e2c-1c13-4d4e-8a03-e4837a2ee094",
   "metadata": {},
   "outputs": [
    {
     "name": "stderr",
     "output_type": "stream",
     "text": [
      "[nltk_data] Downloading package punkt to\n",
      "[nltk_data]     /Users/nidhikumar/nltk_data...\n",
      "[nltk_data]   Unzipping tokenizers/punkt.zip.\n",
      "[nltk_data] Downloading package averaged_perceptron_tagger to\n",
      "[nltk_data]     /Users/nidhikumar/nltk_data...\n",
      "[nltk_data]   Unzipping taggers/averaged_perceptron_tagger.zip.\n"
     ]
    }
   ],
   "source": [
    "data = loaderText.load()"
   ]
  },
  {
   "cell_type": "code",
   "execution_count": 11,
   "id": "0a5b6081-ac7b-4ab7-a7b9-554a38441f63",
   "metadata": {},
   "outputs": [
    {
     "data": {
      "text/plain": [
       "1"
      ]
     },
     "execution_count": 11,
     "metadata": {},
     "output_type": "execute_result"
    }
   ],
   "source": [
    "len(data)"
   ]
  },
  {
   "cell_type": "code",
   "execution_count": 14,
   "id": "b4dbc3ca-79c0-4418-9404-356a44ce192b",
   "metadata": {},
   "outputs": [
    {
     "data": {
      "text/plain": [
       "{'source': 'https://www.fool.com/investing/2024/03/27/where-will-nvidia-stock-be-in-1-year/'}"
      ]
     },
     "execution_count": 14,
     "metadata": {},
     "output_type": "execute_result"
    }
   ],
   "source": [
    "data[0].metadata"
   ]
  },
  {
   "cell_type": "code",
   "execution_count": 36,
   "id": "bf511715-1de6-4e77-8b9d-463c790bfaef",
   "metadata": {},
   "outputs": [],
   "source": [
    "text = \"Interstellar is a 2014 epic science fiction film co-written, directed, and co-produced by Christopher Nolan.\\n It stars Matthew McConaughey, Anne Hathaway, Jessica Chastain, Bill Irwin, Ellen Burstyn, Michael Caine, and Matt Damon.\\n Set in a dystopian future where humanity is embroiled in a catastrophic blight and famine, the film follows a group of astronauts who travel through a wormhole near Saturn in search of a new home for humankind. Brothers Christopher and Jonathan Nolan wrote the screenplay, which had its origins in a script Jonathan developed in 2007 and was originally set to be directed by Steven Spielberg. \\n Kip Thorne, a Caltech theoretical physicist was an executive producer, acted as a scientific consultant, and wrote a tie-in book, The Science of Interstellar. \\n Cinematographer Hoyte van Hoytema shot it on 35 mm movie film in the Panavision anamorphic format and IMAX 70 mm. Principal photography began in late 2013 and took place in Alberta, Iceland, and Los Angeles. \\n Interstellar uses extensive practical and miniature effects, and the company Double Negative created additional digital effects. Interstellar premiered in Los Angeles on October 26, 2014. In the United States, it was first released on film stock, expanding to venues using digital projectors.\\n The film received positive reviews from critics and grossed over $681 million worldwide ($703 million after subsequent re-releases), making it the tenth-highest-grossing film of 2014. It has been praised by astronomers for its scientific accuracy and portrayal of theoretical astrophysics.[4][5][6] \\nInterstellar was nominated for five awards at the 87th Academy Awards, winning Best Visual Effects, and received numerous other accolades. Plot In 2067, humanity is facing extinction following a global famine caused by ecocide.[7] Joseph Cooper, a former NASA astronaut, along with his son and daughter, Tom and Murph, and father-in-law Donald, are farmers, like most of humanity. One evening, during a dust storm, Cooper and Murph discover a gravitational anomaly in Murph's bedroom that left patterns of falling particles.\\n The pattern represents GPS coordinates, which lead Cooper and Murph to a secret NASA facility. NASA's mission is to find a habitable planet beyond the solar system. A team is preparing to travel through a wormhole near Saturn leading to a galaxy with three potentially habitable planets, based on data from three probe missions, each orbiting the supermassive blackhole Gargantua. \\n Dr. Brand, lead scientist, asks Cooper to pilot the ship due to his experience. Cooper struggles with leaving his children behind, but promises Murph that he will return. Heartbroken, Murph refuses to say goodbye. \\n The Endurance spacecraft takes off with three other NASA scientists − Romilly, Doyle, and Brand's daughter Amelia − as well as two intelligent robots, TARS and CASE. \\n A couple years later, the crew enters the wormhole and arrives at the first planet to find an ocean world with massive tidal waves. Doyle is swept away and killed. Cooper and Amelia wait for water to drain from the craft and return to the Endurance, where 23 years have passed for Romilly due to time dilation.\\n On Earth in 2092, an adult Murph helps Dr. Brand with an equation to solve the problem of mass exodus — transporting Earth's population off the planet. On his deathbed, Brand reveals that the crew's goal was to colonize another planet rather than return with data that would help the existing population. Murph, despite wondering if Cooper knowingly abandoned her, continues to work on the problem. On the second planet, the crew awakens the probe mission's explorer, Dr. Mann, from cryostasis. Mann offers to show Cooper the hospitable part of the planet, but then confesses to having falsified data so that someone might rescue him from the deserted ice world, and they begin to fight. Cooper survives the fight, while Romilly is killed while accessing Mann's data. Mann takes the Endurance crew's lander and beats them to the Endurance. With TARS having removed his security clearance to dock, Mann fails to dock correctly and is killed in an explosion that damages a portion of Endurance. Cooper and Amelia, with limited fuel remaining, chart a gravity-assist path around Gargantua to propel the craft to the third planet, causing another 51 years to dilate. At the last moment, Cooper detaches himself so that Amelia may reach the final planet. He and TARS fall beyond the black hole's event horizon. Cooper falls into a four-dimensional tesseract, with time as a physical dimension, that appears to be the back of Murph's bookshelf. He uses gravity to communicate with Murph and his past self, and realizes he sent the NASA coordinates and initiated this mission, and that a future generation created the tesseract to preserve humankind. He decides to feed Murph the blackhole gravity data to help her solve the equation, and encodes the data as Morse code into the ticking second hand of his wristwatch, which he gave Murph. Murph comes across the watch while visiting the family home for the last time. The tesseract dissolves, ejecting Cooper and TARS through the wormhole and into Saturn's orbit again where, in 2156, a couple of Rangers rescue them. Cooper awakens on a hospital bed inside a massive O'Neill cylinder named after Murph, with whom he later reunites, and is now relatively older than him. Murph asks Cooper not to watch her die and to go to Amelia, so both he and TARS steal a Ranger and set off for the third planet, where Amelia is directing the setup of a new colony. She takes off her helmet and breathes in the air.\""
   ]
  },
  {
   "cell_type": "markdown",
   "id": "5d2d0052-752f-44fc-b990-4ebfbbde8b4b",
   "metadata": {},
   "source": [
    "# Character Text Splitter - splits data into chunks on basis of separator"
   ]
  },
  {
   "cell_type": "code",
   "execution_count": 37,
   "id": "ccba80a2-113b-4bda-8a5f-1cd55172adcf",
   "metadata": {},
   "outputs": [],
   "source": [
    "from langchain.text_splitter import CharacterTextSplitter"
   ]
  },
  {
   "cell_type": "code",
   "execution_count": 40,
   "id": "26154440-32ce-4a1a-8f09-69f1a5d4a754",
   "metadata": {},
   "outputs": [
    {
     "name": "stderr",
     "output_type": "stream",
     "text": [
      "Created a chunk of size 211, which is longer than the specified 200\n",
      "Created a chunk of size 215, which is longer than the specified 200\n",
      "Created a chunk of size 204, which is longer than the specified 200\n"
     ]
    },
    {
     "data": {
      "text/plain": [
       "38"
      ]
     },
     "execution_count": 40,
     "metadata": {},
     "output_type": "execute_result"
    }
   ],
   "source": [
    "splitter = CharacterTextSplitter(\n",
    "    separator = \".\",\n",
    "    chunk_size = 200,\n",
    "    chunk_overlap = 0)\n",
    "chunks = splitter.split_text(text)\n",
    "len(chunks)"
   ]
  },
  {
   "cell_type": "code",
   "execution_count": 41,
   "id": "137a8ffa-50d0-4c10-b4a4-c6204a12d6c3",
   "metadata": {
    "scrolled": true
   },
   "outputs": [
    {
     "data": {
      "text/plain": [
       "['Interstellar is a 2014 epic science fiction film co-written, directed, and co-produced by Christopher Nolan',\n",
       " 'It stars Matthew McConaughey, Anne Hathaway, Jessica Chastain, Bill Irwin, Ellen Burstyn, Michael Caine, and Matt Damon',\n",
       " 'Set in a dystopian future where humanity is embroiled in a catastrophic blight and famine, the film follows a group of astronauts who travel through a wormhole near Saturn in search of a new home for humankind',\n",
       " 'Brothers Christopher and Jonathan Nolan wrote the screenplay, which had its origins in a script Jonathan developed in 2007 and was originally set to be directed by Steven Spielberg',\n",
       " 'Kip Thorne, a Caltech theoretical physicist was an executive producer, acted as a scientific consultant, and wrote a tie-in book, The Science of Interstellar',\n",
       " 'Cinematographer Hoyte van Hoytema shot it on 35 mm movie film in the Panavision anamorphic format and IMAX 70 mm',\n",
       " 'Principal photography began in late 2013 and took place in Alberta, Iceland, and Los Angeles',\n",
       " 'Interstellar uses extensive practical and miniature effects, and the company Double Negative created additional digital effects. Interstellar premiered in Los Angeles on October 26, 2014',\n",
       " 'In the United States, it was first released on film stock, expanding to venues using digital projectors',\n",
       " 'The film received positive reviews from critics and grossed over $681 million worldwide ($703 million after subsequent re-releases), making it the tenth-highest-grossing film of 2014',\n",
       " 'It has been praised by astronomers for its scientific accuracy and portrayal of theoretical astrophysics',\n",
       " '[4][5][6] \\nInterstellar was nominated for five awards at the 87th Academy Awards, winning Best Visual Effects, and received numerous other accolades',\n",
       " 'Plot In 2067, humanity is facing extinction following a global famine caused by ecocide',\n",
       " '[7] Joseph Cooper, a former NASA astronaut, along with his son and daughter, Tom and Murph, and father-in-law Donald, are farmers, like most of humanity',\n",
       " \"One evening, during a dust storm, Cooper and Murph discover a gravitational anomaly in Murph's bedroom that left patterns of falling particles\",\n",
       " \"The pattern represents GPS coordinates, which lead Cooper and Murph to a secret NASA facility. NASA's mission is to find a habitable planet beyond the solar system\",\n",
       " 'A team is preparing to travel through a wormhole near Saturn leading to a galaxy with three potentially habitable planets, based on data from three probe missions, each orbiting the supermassive blackhole Gargantua',\n",
       " 'Dr. Brand, lead scientist, asks Cooper to pilot the ship due to his experience. Cooper struggles with leaving his children behind, but promises Murph that he will return',\n",
       " 'Heartbroken, Murph refuses to say goodbye',\n",
       " \"The Endurance spacecraft takes off with three other NASA scientists − Romilly, Doyle, and Brand's daughter Amelia − as well as two intelligent robots, TARS and CASE\",\n",
       " 'A couple years later, the crew enters the wormhole and arrives at the first planet to find an ocean world with massive tidal waves. Doyle is swept away and killed',\n",
       " 'Cooper and Amelia wait for water to drain from the craft and return to the Endurance, where 23 years have passed for Romilly due to time dilation.\\n On Earth in 2092, an adult Murph helps Dr',\n",
       " \"Brand with an equation to solve the problem of mass exodus — transporting Earth's population off the planet\",\n",
       " \"On his deathbed, Brand reveals that the crew's goal was to colonize another planet rather than return with data that would help the existing population\",\n",
       " \"Murph, despite wondering if Cooper knowingly abandoned her, continues to work on the problem. On the second planet, the crew awakens the probe mission's explorer, Dr. Mann, from cryostasis\",\n",
       " 'Mann offers to show Cooper the hospitable part of the planet, but then confesses to having falsified data so that someone might rescue him from the deserted ice world, and they begin to fight',\n",
       " \"Cooper survives the fight, while Romilly is killed while accessing Mann's data. Mann takes the Endurance crew's lander and beats them to the Endurance\",\n",
       " 'With TARS having removed his security clearance to dock, Mann fails to dock correctly and is killed in an explosion that damages a portion of Endurance',\n",
       " 'Cooper and Amelia, with limited fuel remaining, chart a gravity-assist path around Gargantua to propel the craft to the third planet, causing another 51 years to dilate',\n",
       " \"At the last moment, Cooper detaches himself so that Amelia may reach the final planet. He and TARS fall beyond the black hole's event horizon\",\n",
       " \"Cooper falls into a four-dimensional tesseract, with time as a physical dimension, that appears to be the back of Murph's bookshelf\",\n",
       " 'He uses gravity to communicate with Murph and his past self, and realizes he sent the NASA coordinates and initiated this mission, and that a future generation created the tesseract to preserve humankind',\n",
       " 'He decides to feed Murph the blackhole gravity data to help her solve the equation, and encodes the data as Morse code into the ticking second hand of his wristwatch, which he gave Murph',\n",
       " 'Murph comes across the watch while visiting the family home for the last time',\n",
       " \"The tesseract dissolves, ejecting Cooper and TARS through the wormhole and into Saturn's orbit again where, in 2156, a couple of Rangers rescue them\",\n",
       " \"Cooper awakens on a hospital bed inside a massive O'Neill cylinder named after Murph, with whom he later reunites, and is now relatively older than him\",\n",
       " 'Murph asks Cooper not to watch her die and to go to Amelia, so both he and TARS steal a Ranger and set off for the third planet, where Amelia is directing the setup of a new colony',\n",
       " 'She takes off her helmet and breathes in the air']"
      ]
     },
     "execution_count": 41,
     "metadata": {},
     "output_type": "execute_result"
    }
   ],
   "source": [
    "chunks"
   ]
  },
  {
   "cell_type": "markdown",
   "id": "12432090-f4df-4212-92d0-eb5fff91aaa8",
   "metadata": {},
   "source": [
    "# Recursive Character Text Splitter - separates into chunks if "
   ]
  },
  {
   "cell_type": "code",
   "execution_count": 44,
   "id": "2fb18758-9012-4caa-bb2b-5ae0868ea5c8",
   "metadata": {},
   "outputs": [
    {
     "data": {
      "text/plain": [
       "34"
      ]
     },
     "execution_count": 44,
     "metadata": {},
     "output_type": "execute_result"
    }
   ],
   "source": [
    "from langchain.text_splitter import RecursiveCharacterTextSplitter\n",
    "\n",
    "r_splitter = RecursiveCharacterTextSplitter(\n",
    "    separators = [\"\\n\\n\", \"\\n\", \" \"],\n",
    "    chunk_size = 200,\n",
    "    chunk_overlap = 0\n",
    ")\n",
    "\n",
    "chunks = r_splitter.split_text(text)\n",
    "len(chunks)"
   ]
  },
  {
   "cell_type": "code",
   "execution_count": 45,
   "id": "e218232c-63c2-4fcf-82e7-277248941a6a",
   "metadata": {
    "scrolled": true
   },
   "outputs": [
    {
     "data": {
      "text/plain": [
       "['Interstellar is a 2014 epic science fiction film co-written, directed, and co-produced by Christopher Nolan.',\n",
       " 'It stars Matthew McConaughey, Anne Hathaway, Jessica Chastain, Bill Irwin, Ellen Burstyn, Michael Caine, and Matt Damon.',\n",
       " 'Set in a dystopian future where humanity is embroiled in a catastrophic blight and famine, the film follows a group of astronauts who travel through a wormhole near Saturn in search of a new home',\n",
       " 'for humankind. Brothers Christopher and Jonathan Nolan wrote the screenplay, which had its origins in a script Jonathan developed in 2007 and was originally set to be directed by Steven Spielberg.',\n",
       " 'Kip Thorne, a Caltech theoretical physicist was an executive producer, acted as a scientific consultant, and wrote a tie-in book, The Science of Interstellar.',\n",
       " 'Cinematographer Hoyte van Hoytema shot it on 35 mm movie film in the Panavision anamorphic format and IMAX 70 mm. Principal photography began in late 2013 and took place in Alberta, Iceland, and Los',\n",
       " 'Angeles.',\n",
       " 'Interstellar uses extensive practical and miniature effects, and the company Double Negative created additional digital effects. Interstellar premiered in Los Angeles on October 26, 2014. In the',\n",
       " 'United States, it was first released on film stock, expanding to venues using digital projectors.',\n",
       " 'The film received positive reviews from critics and grossed over $681 million worldwide ($703 million after subsequent re-releases), making it the tenth-highest-grossing film of 2014. It has been',\n",
       " 'praised by astronomers for its scientific accuracy and portrayal of theoretical astrophysics.[4][5][6]',\n",
       " 'Interstellar was nominated for five awards at the 87th Academy Awards, winning Best Visual Effects, and received numerous other accolades. Plot In 2067, humanity is facing extinction following a',\n",
       " 'global famine caused by ecocide.[7] Joseph Cooper, a former NASA astronaut, along with his son and daughter, Tom and Murph, and father-in-law Donald, are farmers, like most of humanity. One evening,',\n",
       " \"during a dust storm, Cooper and Murph discover a gravitational anomaly in Murph's bedroom that left patterns of falling particles.\",\n",
       " \"The pattern represents GPS coordinates, which lead Cooper and Murph to a secret NASA facility. NASA's mission is to find a habitable planet beyond the solar system. A team is preparing to travel\",\n",
       " 'through a wormhole near Saturn leading to a galaxy with three potentially habitable planets, based on data from three probe missions, each orbiting the supermassive blackhole Gargantua.',\n",
       " 'Dr. Brand, lead scientist, asks Cooper to pilot the ship due to his experience. Cooper struggles with leaving his children behind, but promises Murph that he will return. Heartbroken, Murph refuses',\n",
       " 'to say goodbye.',\n",
       " \"The Endurance spacecraft takes off with three other NASA scientists − Romilly, Doyle, and Brand's daughter Amelia − as well as two intelligent robots, TARS and CASE.\",\n",
       " 'A couple years later, the crew enters the wormhole and arrives at the first planet to find an ocean world with massive tidal waves. Doyle is swept away and killed. Cooper and Amelia wait for water',\n",
       " 'to drain from the craft and return to the Endurance, where 23 years have passed for Romilly due to time dilation.',\n",
       " \"On Earth in 2092, an adult Murph helps Dr. Brand with an equation to solve the problem of mass exodus — transporting Earth's population off the planet. On his deathbed, Brand reveals that the crew's\",\n",
       " 'goal was to colonize another planet rather than return with data that would help the existing population. Murph, despite wondering if Cooper knowingly abandoned her, continues to work on the problem.',\n",
       " \"On the second planet, the crew awakens the probe mission's explorer, Dr. Mann, from cryostasis. Mann offers to show Cooper the hospitable part of the planet, but then confesses to having falsified\",\n",
       " \"data so that someone might rescue him from the deserted ice world, and they begin to fight. Cooper survives the fight, while Romilly is killed while accessing Mann's data. Mann takes the Endurance\",\n",
       " \"crew's lander and beats them to the Endurance. With TARS having removed his security clearance to dock, Mann fails to dock correctly and is killed in an explosion that damages a portion of Endurance.\",\n",
       " 'Cooper and Amelia, with limited fuel remaining, chart a gravity-assist path around Gargantua to propel the craft to the third planet, causing another 51 years to dilate. At the last moment, Cooper',\n",
       " \"detaches himself so that Amelia may reach the final planet. He and TARS fall beyond the black hole's event horizon. Cooper falls into a four-dimensional tesseract, with time as a physical dimension,\",\n",
       " \"that appears to be the back of Murph's bookshelf. He uses gravity to communicate with Murph and his past self, and realizes he sent the NASA coordinates and initiated this mission, and that a future\",\n",
       " 'generation created the tesseract to preserve humankind. He decides to feed Murph the blackhole gravity data to help her solve the equation, and encodes the data as Morse code into the ticking second',\n",
       " 'hand of his wristwatch, which he gave Murph. Murph comes across the watch while visiting the family home for the last time. The tesseract dissolves, ejecting Cooper and TARS through the wormhole and',\n",
       " \"into Saturn's orbit again where, in 2156, a couple of Rangers rescue them. Cooper awakens on a hospital bed inside a massive O'Neill cylinder named after Murph, with whom he later reunites, and is\",\n",
       " 'now relatively older than him. Murph asks Cooper not to watch her die and to go to Amelia, so both he and TARS steal a Ranger and set off for the third planet, where Amelia is directing the setup of',\n",
       " 'a new colony. She takes off her helmet and breathes in the air.']"
      ]
     },
     "execution_count": 45,
     "metadata": {},
     "output_type": "execute_result"
    }
   ],
   "source": [
    "chunks"
   ]
  },
  {
   "cell_type": "code",
   "execution_count": 46,
   "id": "76fcda10-f1b5-4864-91aa-f2f3edeb1fa6",
   "metadata": {
    "scrolled": true
   },
   "outputs": [
    {
     "name": "stdout",
     "output_type": "stream",
     "text": [
      "108\n",
      "120\n",
      "195\n",
      "196\n",
      "158\n",
      "198\n",
      "8\n",
      "194\n",
      "97\n",
      "195\n",
      "102\n",
      "194\n",
      "198\n",
      "130\n",
      "194\n",
      "185\n",
      "197\n",
      "15\n",
      "165\n",
      "196\n",
      "113\n",
      "198\n",
      "199\n",
      "196\n",
      "196\n",
      "199\n",
      "196\n",
      "198\n",
      "198\n",
      "198\n",
      "198\n",
      "196\n",
      "198\n",
      "63\n"
     ]
    }
   ],
   "source": [
    "for chunk in chunks:\n",
    "    print(len(chunk))"
   ]
  },
  {
   "cell_type": "code",
   "execution_count": 47,
   "id": "39a53cce-f836-4de1-a72b-431bb0214f18",
   "metadata": {},
   "outputs": [
    {
     "data": {
      "text/plain": [
       "'Interstellar is a 2014 epic science fiction film co-written, directed, and co-produced by Christopher Nolan.'"
      ]
     },
     "execution_count": 47,
     "metadata": {},
     "output_type": "execute_result"
    }
   ],
   "source": [
    "chunks = text.split(\"\\n\")\n",
    "first_split = chunks[0]\n",
    "first_split"
   ]
  },
  {
   "cell_type": "code",
   "execution_count": null,
   "id": "2e4db698-a858-4a99-a015-3031c353fd61",
   "metadata": {},
   "outputs": [],
   "source": []
  }
 ],
 "metadata": {
  "kernelspec": {
   "display_name": "Python 3 (ipykernel)",
   "language": "python",
   "name": "python3"
  },
  "language_info": {
   "codemirror_mode": {
    "name": "ipython",
    "version": 3
   },
   "file_extension": ".py",
   "mimetype": "text/x-python",
   "name": "python",
   "nbconvert_exporter": "python",
   "pygments_lexer": "ipython3",
   "version": "3.11.7"
  }
 },
 "nbformat": 4,
 "nbformat_minor": 5
}
